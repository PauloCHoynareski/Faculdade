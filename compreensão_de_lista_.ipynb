{
  "nbformat": 4,
  "nbformat_minor": 0,
  "metadata": {
    "colab": {
      "provenance": [],
      "authorship_tag": "ABX9TyMAmIx4zQcV5sRQn5y5WIUx",
      "include_colab_link": true
    },
    "kernelspec": {
      "name": "python3",
      "display_name": "Python 3"
    },
    "language_info": {
      "name": "python"
    }
  },
  "cells": [
    {
      "cell_type": "markdown",
      "metadata": {
        "id": "view-in-github",
        "colab_type": "text"
      },
      "source": [
        "<a href=\"https://colab.research.google.com/github/PauloCHoynareski/Faculdade/blob/main/compreens%C3%A3o_de_lista_.ipynb\" target=\"_parent\"><img src=\"https://colab.research.google.com/assets/colab-badge.svg\" alt=\"Open In Colab\"/></a>"
      ]
    },
    {
      "cell_type": "markdown",
      "source": [
        "1. Crie uma lista com os números de 1 a 10 usando compreensão de lista."
      ],
      "metadata": {
        "id": "q4jnFfZzcaZH"
      }
    },
    {
      "cell_type": "code",
      "source": [
        "X = [x for x in range (11)]\n",
        "print (X)\n"
      ],
      "metadata": {
        "colab": {
          "base_uri": "https://localhost:8080/"
        },
        "id": "mjOLalNgcbLH",
        "outputId": "e6ec1c15-cfb0-416a-c851-fbf31e1bc085"
      },
      "execution_count": null,
      "outputs": [
        {
          "output_type": "stream",
          "name": "stdout",
          "text": [
            "[0, 1, 2, 3, 4, 5, 6, 7, 8, 9, 10]\n"
          ]
        }
      ]
    },
    {
      "cell_type": "markdown",
      "source": [
        "2. Crie uma lista com os números ímpares de 1 a 50."
      ],
      "metadata": {
        "id": "j2nu_SMmczN5"
      }
    },
    {
      "cell_type": "code",
      "source": [
        "y = [ y for y in range (51) if y % 2 != 0 ]\n",
        "print(y)"
      ],
      "metadata": {
        "colab": {
          "base_uri": "https://localhost:8080/"
        },
        "id": "M_WgMtHVc2rx",
        "outputId": "9662aa5f-9b41-4f07-c266-097877f99163"
      },
      "execution_count": null,
      "outputs": [
        {
          "output_type": "stream",
          "name": "stdout",
          "text": [
            "[1, 3, 5, 7, 9, 11, 13, 15, 17, 19, 21, 23, 25, 27, 29, 31, 33, 35, 37, 39, 41, 43, 45, 47, 49]\n"
          ]
        }
      ]
    },
    {
      "cell_type": "markdown",
      "source": [
        "3. Crie uma lista com as letras maiúsculas de uma string qualquer."
      ],
      "metadata": {
        "id": "86ko6GvHdS5K"
      }
    },
    {
      "cell_type": "code",
      "source": [
        "famosos = ['guido', 'linus', 'mark']\n",
        "nomes_capitalizados = [nome.capitalize() for nome in famosos]\n",
        "print(nomes_capitalizados)"
      ],
      "metadata": {
        "colab": {
          "base_uri": "https://localhost:8080/"
        },
        "id": "Fn2b9HLufEqo",
        "outputId": "4898e2e3-a5d8-4a78-9d1d-a6ce8223b442"
      },
      "execution_count": null,
      "outputs": [
        {
          "output_type": "stream",
          "name": "stdout",
          "text": [
            "['Guido', 'Linus', 'Mark']\n"
          ]
        }
      ]
    },
    {
      "cell_type": "markdown",
      "source": [
        "4. Crie uma lista com o comprimento de cada palavra em uma string."
      ],
      "metadata": {
        "id": "TnrIHG6ne3mv"
      }
    },
    {
      "cell_type": "code",
      "source": [
        "palavras = 'Iremos te auxiliar '\n",
        "contador = palavras.split()\n",
        "comprimento = [len(palavras) for palavras in contador]\n",
        "print(comprimento)"
      ],
      "metadata": {
        "colab": {
          "base_uri": "https://localhost:8080/"
        },
        "id": "sPSPsgZje8j3",
        "outputId": "31fbe9ac-7564-4afb-c0bb-5a9c2f62ed05"
      },
      "execution_count": null,
      "outputs": [
        {
          "output_type": "stream",
          "name": "stdout",
          "text": [
            "[6, 2, 8]\n"
          ]
        }
      ]
    },
    {
      "cell_type": "markdown",
      "source": [
        "Crie uma lista com os números divisíveis por 3 e 5 de 1 a 30."
      ],
      "metadata": {
        "id": "z6Fq4BbVEHPb"
      }
    },
    {
      "cell_type": "code",
      "source": [
        "Lista = [x for x in range (1,31) if x % 5 == 0 or x % 3 == 0]\n",
        "print(Lista)"
      ],
      "metadata": {
        "colab": {
          "base_uri": "https://localhost:8080/"
        },
        "id": "1j5KIjIFEHyW",
        "outputId": "44576581-94ea-412c-ffd4-c0e0b06990ad"
      },
      "execution_count": null,
      "outputs": [
        {
          "output_type": "stream",
          "name": "stdout",
          "text": [
            "[3, 5, 6, 9, 10, 12, 15, 18, 20, 21, 24, 25, 27, 30]\n"
          ]
        }
      ]
    },
    {
      "cell_type": "markdown",
      "source": [
        "Crie uma lista com as palavras de uma string que tenham mais de 3 letras."
      ],
      "metadata": {
        "id": "-lRFZkJLEzl1"
      }
    },
    {
      "cell_type": "code",
      "source": [
        "frase = 'Eu te amo para sempre'\n",
        "contagem = frase.split()\n",
        "calculo = [palavra for palavra in contagem if len(palavra) > 3]\n",
        "print(calculo)"
      ],
      "metadata": {
        "colab": {
          "base_uri": "https://localhost:8080/"
        },
        "id": "xn-g8hwHF5ro",
        "outputId": "28d0bbaf-2388-4c6d-cfc4-f87f0a2c97c9"
      },
      "execution_count": null,
      "outputs": [
        {
          "output_type": "stream",
          "name": "stdout",
          "text": [
            "['para', 'sempre']\n"
          ]
        }
      ]
    },
    {
      "cell_type": "markdown",
      "source": [
        "Crie uma lista com os números primos de 1 a 20. Dica: use uma função para\n",
        "verificar se o número é primo ou não.\n",
        "\n",
        "\n"
      ],
      "metadata": {
        "id": "U-4ICS55HPYY"
      }
    },
    {
      "cell_type": "code",
      "source": [
        "# Função para verificar se um número é primo\n",
        "def is_prime(num):\n",
        "    if num <= 1:\n",
        "        return False\n",
        "    if num <= 3:\n",
        "        return True\n",
        "    if num % 2 == 0 or num % 3 == 0:\n",
        "        return False\n",
        "    i = 5\n",
        "    while i * i <= num:\n",
        "        if num % i == 0 or num % (i + 2) == 0:\n",
        "            return False\n",
        "        i += 6\n",
        "    return True\n",
        "\n",
        "# Lista de números primos de 1 a 20\n",
        "primos = [x for x in range(1, 21) if is_prime(x)]\n",
        "\n",
        "# Exibir a lista de números primos\n",
        "print(primos)\n",
        "\n"
      ],
      "metadata": {
        "colab": {
          "base_uri": "https://localhost:8080/"
        },
        "id": "yElv6IglPdaS",
        "outputId": "dfe4f9e4-cd84-4cd5-b70f-a5b47368b6a8"
      },
      "execution_count": null,
      "outputs": [
        {
          "output_type": "stream",
          "name": "stdout",
          "text": [
            "[2, 3, 5, 7, 11, 13, 17, 19]\n"
          ]
        }
      ]
    },
    {
      "cell_type": "markdown",
      "source": [
        "Crie uma lista com as datas de todos os dias de janeiro em um ano bissexto\n",
        "(considerando que um ano bissexto é divisível por 4)."
      ],
      "metadata": {
        "id": "HrIPt0stWDtq"
      }
    },
    {
      "cell_type": "code",
      "source": [
        "ano = 2024\n",
        "\n",
        "if (ano % 4 == 0 and ano % 100 != 0) or (ano % 400 == 0):\n",
        "    bissexto = True\n",
        "else:\n",
        "    bissexto = False\n",
        "\n",
        "if bissexto:\n",
        "    dias_janeiro = list(range(1, 32))\n",
        "else:\n",
        "  print(\"Erro\")\n",
        "\n",
        "\n",
        "\n",
        "print(f'DIAS DO ANO DO MÊS DE JANEIRO {dias_janeiro}')\n",
        "\n"
      ],
      "metadata": {
        "colab": {
          "base_uri": "https://localhost:8080/"
        },
        "id": "1ZWUEdOmWGNy",
        "outputId": "9993b5fb-4bb1-49c9-c9fc-0eb27a8f7939"
      },
      "execution_count": null,
      "outputs": [
        {
          "output_type": "stream",
          "name": "stdout",
          "text": [
            "DIAS DO ANO DO MÊS DE JANEIRO [1, 2, 3, 4, 5, 6, 7, 8, 9, 10, 11, 12, 13, 14, 15, 16, 17, 18, 19, 20, 21, 22, 23, 24, 25, 26, 27, 28, 29, 30, 31]\n"
          ]
        }
      ]
    },
    {
      "cell_type": "markdown",
      "source": [
        "Crie uma lista de strings com os primeiros 10 nomes da lista de nomes."
      ],
      "metadata": {
        "id": "Xjt8fK-WYzEd"
      }
    },
    {
      "cell_type": "code",
      "source": [
        "lista = ['Paulo', 'Júlio', 'Lucas', 'Leandro']\n",
        "produto = lista[:3]\n",
        "print(produto)"
      ],
      "metadata": {
        "colab": {
          "base_uri": "https://localhost:8080/"
        },
        "id": "yNK3ZHhOY14Z",
        "outputId": "b39885ec-d00a-4659-d1e2-3dfbc783e583"
      },
      "execution_count": null,
      "outputs": [
        {
          "output_type": "stream",
          "name": "stdout",
          "text": [
            "['Paulo', 'Júlio', 'Lucas']\n"
          ]
        }
      ]
    },
    {
      "cell_type": "markdown",
      "source": [
        "Crie uma lista de strings com os nomes dos primeiros 10 nomes da lista de\n",
        "nomes, mas com as primeiras letras maiúsculas."
      ],
      "metadata": {
        "id": "qswNe6ThaaTD"
      }
    },
    {
      "cell_type": "code",
      "source": [
        "\n",
        "lista = ['paulo', 'júlio', 'lucas', 'leandro']\n",
        "produto = [nome.capitalize() for nome in lista [:2]]\n",
        "print(produto)"
      ],
      "metadata": {
        "colab": {
          "base_uri": "https://localhost:8080/"
        },
        "id": "0fQ0nPvXaa7S",
        "outputId": "beb9e9ca-0f55-468a-db0b-2037727ad310"
      },
      "execution_count": null,
      "outputs": [
        {
          "output_type": "stream",
          "name": "stdout",
          "text": [
            "['Paulo', 'Júlio']\n"
          ]
        }
      ]
    },
    {
      "cell_type": "markdown",
      "source": [
        "Crie uma lista de strings com os nomes dos primeiros 10 nomes da lista de\n",
        "nomes, mas sem as vogais."
      ],
      "metadata": {
        "id": "8vpacvZgh3il"
      }
    },
    {
      "cell_type": "code",
      "source": [
        "lista = ['paulo', 'júlio', 'lucas', 'leandro']\n",
        "def remover_vogais(texto):\n",
        "    return ''.join([char for char in texto if char.lower() not in 'aeiou'])\n",
        "\n",
        "nomes_sem_vogais =  [remover_vogais(nome) for nome in nomes[:10]]\n",
        "\n",
        "\n",
        "print(produto)\n"
      ],
      "metadata": {
        "colab": {
          "base_uri": "https://localhost:8080/"
        },
        "id": "238TOHWsh4WG",
        "outputId": "3c9fb404-85c4-4e0a-8158-c9a723f8bf7c"
      },
      "execution_count": null,
      "outputs": [
        {
          "output_type": "stream",
          "name": "stdout",
          "text": [
            "[]\n"
          ]
        }
      ]
    },
    {
      "cell_type": "code",
      "source": [
        "nomes = ['paulo', 'júlio', 'lucas', 'leandro', 'ana', 'maria', 'joão', 'carlos', 'elaine', 'andreia', 'fernanda']\n",
        "\n",
        "# Função para remover as vogais de uma string\n",
        "def remover_vogais(texto):\n",
        "    return ''.join([char for char in texto if char.lower() not in 'aeiou'])\n",
        "\n",
        "# Crie a lista de nomes sem vogais\n",
        "nomes_sem_vogais = [remover_vogais(nome) for nome in nomes[:10]]\n",
        "\n",
        "print(nomes_sem_vogais)\n"
      ],
      "metadata": {
        "colab": {
          "base_uri": "https://localhost:8080/"
        },
        "id": "fhJMGQZbkbzo",
        "outputId": "08830284-0895-4891-ccef-6fea0891b374"
      },
      "execution_count": null,
      "outputs": [
        {
          "output_type": "stream",
          "name": "stdout",
          "text": [
            "['pl', 'júl', 'lcs', 'lndr', 'n', 'mr', 'jã', 'crls', 'ln', 'ndr']\n"
          ]
        }
      ]
    },
    {
      "cell_type": "markdown",
      "source": [
        "Concatenar elementos de sub-listas em uma única lista"
      ],
      "metadata": {
        "id": "BKFZb7BXrPpe"
      }
    },
    {
      "cell_type": "code",
      "source": [
        "lista_1 = [1,2,3,4,5,6,7,8]\n",
        "lista_2 = [numero for numero in lista_1 ]\n",
        "print(lista_2)"
      ],
      "metadata": {
        "colab": {
          "base_uri": "https://localhost:8080/"
        },
        "id": "bjqYfHizrQcd",
        "outputId": "afdb4453-8c67-49df-b345-a16f504d03ce"
      },
      "execution_count": 3,
      "outputs": [
        {
          "output_type": "stream",
          "name": "stdout",
          "text": [
            "[1, 2, 3, 4, 5, 6, 7, 8]\n"
          ]
        }
      ]
    },
    {
      "cell_type": "markdown",
      "source": [
        "Criar um dicionário a partir de duas listas\n"
      ],
      "metadata": {
        "id": "m9tuE7kosSks"
      }
    },
    {
      "cell_type": "code",
      "source": [
        "chaves = ['nome', 'idade', 'cidade']\n",
        "valores = ['João', 30, 'São Paulo']\n",
        "\n",
        "dicionario = dict(zip(chaves, valores))\n",
        "\n",
        "print(dicionario)\n"
      ],
      "metadata": {
        "colab": {
          "base_uri": "https://localhost:8080/"
        },
        "id": "vad7iXAXsWE9",
        "outputId": "499af263-f642-4d03-cca5-bf01caae08c7"
      },
      "execution_count": 4,
      "outputs": [
        {
          "output_type": "stream",
          "name": "stdout",
          "text": [
            "{'nome': 'João', 'idade': 30, 'cidade': 'São Paulo'}\n"
          ]
        }
      ]
    }
  ]
}